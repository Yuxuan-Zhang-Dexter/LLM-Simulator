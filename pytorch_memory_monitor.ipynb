{
 "cells": [
  {
   "cell_type": "code",
   "execution_count": 1,
   "metadata": {},
   "outputs": [],
   "source": [
    "# Packages\n",
    "from transformers import AutoTokenizer, AutoModelForCausalLM, AutoConfig\n",
    "import torch\n",
    "from tqdm import tqdm\n",
    "import os\n",
    "from typing import Literal\n",
    "import gc\n",
    "import matplotlib.pyplot as plt\n"
   ]
  },
  {
   "cell_type": "code",
   "execution_count": null,
   "metadata": {},
   "outputs": [],
   "source": [
    "# Load Models\n",
    "\n",
    "device = torch.device(\"cuda\" if torch.cuda.is_available() else \"cpu\")\n",
    "print(f\"Current Available Device: {device}\")\n",
    "use_amp = amp_supported = torch.cuda.is_available() and torch.cuda.get_device_capability(0) >= (7, 0)\n",
    "tinyllama_model_name = \"TinyLlama/TinyLlama-1.1B-step-50K-105b\"\n",
    "llama7b_model_name = \"NousResearch/Llama-2-7b-hf\"\n",
    "# local_model_dir = './model_cache'\n",
    "\n",
    "# tokenizer = AutoTokenizer.from_pretrained(\"NousResearch/Llama-2-7b-hf\")\n",
    "# model = AutoModelForCausalLM.from_pretrained(\"NousResearch/Llama-2-7b-hf\", torch_dtype=torch.float16).to(device)\n",
    "# Load model directly\n",
    "\n",
    "# tokenizer = AutoTokenizer.from_pretrained(\"TinyLlama/TinyLlama-1.1B-step-50K-105b\")\n",
    "# model = AutoModelForCausalLM.from_pretrained(\"TinyLlama/TinyLlama-1.1B-step-50K-105b\",   torch_dtype=torch.float16).to(device)"
   ]
  },
  {
   "cell_type": "markdown",
   "metadata": {},
   "source": [
    "## Inference: Memory and Max Memory Monitor"
   ]
  },
  {
   "cell_type": "code",
   "execution_count": 3,
   "metadata": {},
   "outputs": [],
   "source": [
    "# config = AutoConfig.from_pretrained(\"Tinyllama/Tinyllama-1.1B-step-50K-105b\")\n",
    "\n",
    "# hidden_size = config.hidden_size\n",
    "# eos_token_id = config.eos_token_id\n",
    "# max_position_embeddings = config.max_position_embeddings\n",
    "\n",
    "# print(\"Hidden Size:\", hidden_size)\n",
    "# print(\"EOS Token ID:\", eos_token_id)\n",
    "# print(\"Max Position Embeddings:\", max_position_embeddings)"
   ]
  },
  {
   "cell_type": "code",
   "execution_count": 4,
   "metadata": {},
   "outputs": [],
   "source": [
    "# Hyperparameter\n",
    "b = 1 # batch size\n",
    "s = 1 # sequence length\n",
    "max_s = 4096 # max sequence length"
   ]
  },
  {
   "cell_type": "code",
   "execution_count": null,
   "metadata": {},
   "outputs": [],
   "source": [
    "\n",
    "class ModelMemoryMonitor:\n",
    "    def __init__(self, model_name, batch_size=1, max_seq_len=4096, torch_dtype=torch.float16, use_amp=False, device=\"cuda\"):\n",
    "        \"\"\"\n",
    "        Initialize the ModelMemoryMonitor for tracking model inference memory usage.\n",
    "\n",
    "        Args:\n",
    "            model_name (str): Hugging Face model name or local path.\n",
    "            batch_size (int): Number of samples in a batch.\n",
    "            max_seq_len (int): Maximum sequence length.\n",
    "            torch_dtype (torch.dtype): Data type (e.g., torch.float16).\n",
    "            use_amp (bool): If True, enables mixed precision inference.\n",
    "            device (str): Device for inference ('cuda' or 'cpu').\n",
    "        \"\"\"\n",
    "        self.model_name = model_name\n",
    "        self.torch_dtype = torch_dtype\n",
    "        self.device = device\n",
    "        self.use_amp = use_amp\n",
    "        self.batch_size = batch_size\n",
    "        self.max_seq_len = max_seq_len\n",
    "        self.tokenizer = AutoTokenizer.from_pretrained(self.model_name)\n",
    "        self.model = AutoModelForCausalLM.from_pretrained(self.model_name, torch_dtype=self.torch_dtype).to(device)\n",
    "\n",
    "        # Set pad_token to eos_token if no padding token is available\n",
    "        if self.tokenizer.pad_token is None:\n",
    "            self.tokenizer.pad_token = self.tokenizer.eos_token\n",
    "\n",
    "    def reinitialize_model(self):\n",
    "        \"\"\"Reinitialize the model (useful for testing or resetting).\"\"\"\n",
    "        self.model = AutoModelForCausalLM.from_pretrained(self.model_name, torch_dtype=self.torch_dtype).to(self.device)\n",
    "\n",
    "    def delete_model(self):\n",
    "        \"\"\"Delete the model and clear the GPU cache.\"\"\"\n",
    "        del self.model\n",
    "        gc.collect()\n",
    "        torch.cuda.empty_cache()\n",
    "        print(\"Model deleted and CUDA cache cleared.\")\n",
    "\n",
    "    def convert_memory(self, memory, memory_unit: Literal['byte', 'mb', 'gb'] = 'byte'):\n",
    "        \"\"\"Convert memory to specified unit.\"\"\"\n",
    "        if memory_unit == 'mb':\n",
    "            return memory / 1048576  # Convert bytes to MB\n",
    "        elif memory_unit == 'gb':\n",
    "            return memory / 1073741824  # Convert bytes to GB\n",
    "        return memory  # Default to bytes\n",
    "\n",
    "    def simulate_input_ids(self, sequence_length: int, only_padding=False):\n",
    "        \"\"\"\n",
    "        Generate dummy input IDs of specified sequence length.\n",
    "\n",
    "        Args:\n",
    "            sequence_length (int): Desired sequence length for input IDs.\n",
    "            only_padding (bool): If True, generates only padding tokens.\n",
    "\n",
    "        Returns:\n",
    "            dict: A dictionary with input IDs and attention masks on the specified device.\n",
    "        \"\"\"\n",
    "        dummy_text = \"\" if only_padding else \" \".join([\"token\"] * int(sequence_length * 1.5))\n",
    "        inputs = self.tokenizer(dummy_text, return_tensors=\"pt\", padding=True, truncation=True, max_length=self.max_seq_len)\n",
    "        inputs = {key: value.to(self.device) for key, value in inputs.items()}\n",
    "\n",
    "        # Validate sequence length and attention mask sum\n",
    "        actual_length = inputs[\"input_ids\"].shape[1]\n",
    "        if actual_length != sequence_length:\n",
    "            print(f\"Warning: Expected sequence length ({sequence_length}) does not match actual input length ({actual_length}).\")\n",
    "\n",
    "        attention_mask_sum = inputs[\"attention_mask\"].sum().item()\n",
    "        if attention_mask_sum != sequence_length:\n",
    "            print(f\"Warning: Attention mask sum ({attention_mask_sum}) does not match expected sequence length ({sequence_length}).\")\n",
    "\n",
    "        return inputs\n",
    "\n",
    "    def estimate_forward_memory(self, sample_inputs, memory_unit: Literal['byte', 'mb', 'gb'] = 'byte'):\n",
    "        \"\"\"\n",
    "        Estimate memory usage during a forward pass.\n",
    "\n",
    "        Args:\n",
    "            sample_inputs (dict): Input data for the model.\n",
    "            memory_unit (Literal['byte', 'mb', 'gb']): Unit of memory measurement ('byte', 'mb', 'gb').\n",
    "\n",
    "        Returns:\n",
    "            tuple: Previous, peak, and current memory in the specified unit.\n",
    "        \"\"\"\n",
    "        self.model.to(self.device)\n",
    "        self.model.eval()\n",
    "\n",
    "        # Track initial memory usage\n",
    "        prev_memory = torch.cuda.memory_allocated(self.device)\n",
    "        torch.cuda.reset_peak_memory_stats()\n",
    "\n",
    "        # Perform inference with optional AMP (mixed precision)\n",
    "        with torch.no_grad():\n",
    "            if self.use_amp:\n",
    "                with torch.amp.autocast(device_type=str(self.device)):\n",
    "                    outputs = self.model(**sample_inputs)\n",
    "            else:\n",
    "                outputs = self.model(**sample_inputs)\n",
    "\n",
    "        # Get peak and current memory usage\n",
    "        peak_memory = torch.cuda.max_memory_allocated(self.device)\n",
    "        cur_memory = torch.cuda.memory_allocated(self.device)\n",
    "\n",
    "        # Convert memory measurements to the specified unit\n",
    "        prev_memory = self.convert_memory(prev_memory, memory_unit)\n",
    "        peak_memory = self.convert_memory(peak_memory, memory_unit)\n",
    "        cur_memory = self.convert_memory(cur_memory, memory_unit)\n",
    "\n",
    "        # Display memory usage summary\n",
    "        print(f\"Previous Memory: {prev_memory:.2f} {memory_unit.upper()}; Peak Memory: {peak_memory:.2f} {memory_unit.upper()}; Current Memory: {cur_memory:.2f} {memory_unit.upper()}\")\n",
    "        print(f\"Peak Memory Difference: {peak_memory - prev_memory:.2f} {memory_unit.upper()}\")\n",
    "        print(f\"Total Memory Consumption: {cur_memory - prev_memory:.2f} {memory_unit.upper()}\")\n",
    "\n",
    "        return prev_memory, peak_memory, cur_memory\n",
    "\n",
    "    def estimate_iterative_inference_memory(self, prompt, max_iters=100):\n",
    "        \"\"\"\n",
    "        Estimate memory usage during iterative token-by-token generation.\n",
    "\n",
    "        Args:\n",
    "            prompt (str): Initial prompt for generation.\n",
    "            max_iters (int): Maximum number of iterations (tokens) to generate.\n",
    "\n",
    "        Returns:\n",
    "            tuple: Initial memory, list of peak memory per iteration, list of current memory per iteration.\n",
    "        \"\"\"\n",
    "        self.model.to(self.device)\n",
    "        self.model.eval()\n",
    "\n",
    "        prev_memory = torch.cuda.memory_allocated(self.device)\n",
    "        inputs = self.tokenizer(prompt, return_tensors=\"pt\", padding=True, truncation=True, max_length=self.max_seq_len)\n",
    "        input_ids = inputs[\"input_ids\"].to(self.device)\n",
    "        attention_mask = inputs[\"attention_mask\"].to(self.device) \n",
    "\n",
    "        peak_memory_lst, cur_memory_lst = [], []\n",
    "\n",
    "        for i in range(max_iters):\n",
    "            torch.cuda.reset_peak_memory_stats()\n",
    "\n",
    "            with torch.no_grad():\n",
    "                if self.use_amp:\n",
    "                    with torch.amp.autocast(device_type=str(self.device)):\n",
    "                        outputs = self.model.generate(\n",
    "                            input_ids,\n",
    "                            attention_mask=attention_mask,\n",
    "                            max_length=input_ids.shape[1] + 1,\n",
    "                            eos_token_id=self.tokenizer.eos_token_id,\n",
    "                            pad_token_id=self.tokenizer.eos_token_id,\n",
    "                            do_sample=False\n",
    "                        )\n",
    "                else:\n",
    "                    outputs = self.model.generate(\n",
    "                        input_ids,\n",
    "                        attention_mask=attention_mask,\n",
    "                        max_length=input_ids.shape[1] + 1,\n",
    "                        eos_token_id=self.tokenizer.eos_token_id,\n",
    "                        pad_token_id=self.tokenizer.eos_token_id,\n",
    "                        do_sample=False\n",
    "                    )\n",
    "\n",
    "                next_token_id = outputs[:, -1:]\n",
    "                input_ids = torch.cat([input_ids, next_token_id], dim=1)\n",
    "\n",
    "                # Update attention mask to include the new token\n",
    "                new_attention_mask = torch.ones((attention_mask.shape[0], 1), dtype=attention_mask.dtype, device=self.device)\n",
    "                attention_mask = torch.cat([attention_mask, new_attention_mask], dim=1)\n",
    "\n",
    "                if next_token_id.item() == self.tokenizer.eos_token_id:\n",
    "                    print(f\"EOS token generated at iteration {i+1}\")\n",
    "                    break\n",
    "\n",
    "            peak_memory_lst.append(torch.cuda.max_memory_allocated(self.device))\n",
    "            cur_memory_lst.append(torch.cuda.memory_allocated(self.device))\n",
    "\n",
    "        generated_text = self.tokenizer.decode(input_ids[0], skip_special_tokens=True)\n",
    "        print(f'Generated Text: {generated_text}')\n",
    "\n",
    "        return prev_memory, peak_memory_lst, cur_memory_lst\n",
    "\n",
    "    def draw_memory_lines(self, prev_memory, peak_memory_lst, cur_memory_lst, memory_unit: Literal['byte', 'mb', 'gb'] = 'byte'):\n",
    "        \"\"\"\n",
    "        Plot memory usage over iterations.\n",
    "\n",
    "        Args:\n",
    "            prev_memory (int): Baseline memory usage.\n",
    "            peak_memory_lst (list[int]): List of peak memory usage per iteration.\n",
    "            cur_memory_lst (list[int]): List of current memory usage per iteration.\n",
    "            memory_unit (Literal['byte', 'mb', 'gb']): Unit for memory measurements ('byte', 'mb', 'gb').\n",
    "        \"\"\"\n",
    "        conv_prev_memory = self.convert_memory(prev_memory, memory_unit)\n",
    "        conv_peak_memory = [self.convert_memory(peak, memory_unit) for peak in peak_memory_lst]\n",
    "        conv_cur_memory = [self.convert_memory(cur, memory_unit) for cur in cur_memory_lst]\n",
    "\n",
    "        plt.figure(figsize=(12, 6))\n",
    "        iterations = range(len(peak_memory_lst))\n",
    "\n",
    "        # Baseline memory line\n",
    "        plt.axhline(y=conv_prev_memory, color='gray', linestyle='--', linewidth=1.5, label=f'Baseline ({conv_prev_memory:.2f} {memory_unit.upper()})')\n",
    "\n",
    "        # Peak and current memory lines\n",
    "        plt.plot(iterations, conv_peak_memory, label='Peak Memory', color='#FF5733', linewidth=2.5, linestyle='-', marker='o', markersize=5, alpha=0.85)\n",
    "        plt.plot(iterations, conv_cur_memory, label='Current Memory', color='#3498DB', linewidth=2.5, linestyle='-', marker='x', markersize=5, alpha=0.85)\n",
    "\n",
    "        # Labels and title\n",
    "        plt.xlabel(\"Iterations\", fontsize=12)\n",
    "        plt.ylabel(f\"Memory Usage ({memory_unit.upper()})\", fontsize=12)\n",
    "        plt.title(\"Memory Usage per Iteration\", fontsize=16, fontweight='bold')\n",
    "        plt.legend()\n",
    "        plt.grid(True, linestyle='--', linewidth=0.6, alpha=0.7)\n",
    "\n",
    "        plt.tight_layout()\n",
    "        plt.show()"
   ]
  },
  {
   "cell_type": "code",
   "execution_count": 6,
   "metadata": {},
   "outputs": [],
   "source": [
    "# # - Test estimate forward memory method\n",
    "# monitor = ModelMemoryMonitor(model_name, use_amp=use_amp, device=device)\n",
    "# sample_inputs = monitor.simulate_input_ids(1)\n",
    "# monitor.estimate_forward_memory(sample_inputs, memory_unit='mb')"
   ]
  },
  {
   "cell_type": "code",
   "execution_count": 7,
   "metadata": {},
   "outputs": [
    {
     "data": {
      "application/vnd.jupyter.widget-view+json": {
       "model_id": "e4a4775e5e40425693f5cc29dace023b",
       "version_major": 2,
       "version_minor": 0
      },
      "text/plain": [
       "tokenizer_config.json:   0%|          | 0.00/746 [00:00<?, ?B/s]"
      ]
     },
     "metadata": {},
     "output_type": "display_data"
    },
    {
     "data": {
      "application/vnd.jupyter.widget-view+json": {
       "model_id": "e236c7b5570a461199762e9f1941263b",
       "version_major": 2,
       "version_minor": 0
      },
      "text/plain": [
       "tokenizer.model:   0%|          | 0.00/500k [00:00<?, ?B/s]"
      ]
     },
     "metadata": {},
     "output_type": "display_data"
    },
    {
     "data": {
      "application/vnd.jupyter.widget-view+json": {
       "model_id": "1eab60987d8044f08f54f7c3bd23d9a9",
       "version_major": 2,
       "version_minor": 0
      },
      "text/plain": [
       "tokenizer.json:   0%|          | 0.00/1.84M [00:00<?, ?B/s]"
      ]
     },
     "metadata": {},
     "output_type": "display_data"
    },
    {
     "data": {
      "application/vnd.jupyter.widget-view+json": {
       "model_id": "2924ef8033c946f2ba084577f4cdac6a",
       "version_major": 2,
       "version_minor": 0
      },
      "text/plain": [
       "special_tokens_map.json:   0%|          | 0.00/435 [00:00<?, ?B/s]"
      ]
     },
     "metadata": {},
     "output_type": "display_data"
    },
    {
     "data": {
      "application/vnd.jupyter.widget-view+json": {
       "model_id": "59402b5ecb5d44cbba235c1a64a15ad0",
       "version_major": 2,
       "version_minor": 0
      },
      "text/plain": [
       "config.json:   0%|          | 0.00/583 [00:00<?, ?B/s]"
      ]
     },
     "metadata": {},
     "output_type": "display_data"
    },
    {
     "data": {
      "application/vnd.jupyter.widget-view+json": {
       "model_id": "d23d4bbb66b14e88ac73bde5f9eba210",
       "version_major": 2,
       "version_minor": 0
      },
      "text/plain": [
       "model.safetensors.index.json:   0%|          | 0.00/26.8k [00:00<?, ?B/s]"
      ]
     },
     "metadata": {},
     "output_type": "display_data"
    },
    {
     "data": {
      "application/vnd.jupyter.widget-view+json": {
       "model_id": "81529e11d56c4019bf70693eec7c67c5",
       "version_major": 2,
       "version_minor": 0
      },
      "text/plain": [
       "Downloading shards:   0%|          | 0/2 [00:00<?, ?it/s]"
      ]
     },
     "metadata": {},
     "output_type": "display_data"
    },
    {
     "data": {
      "application/vnd.jupyter.widget-view+json": {
       "model_id": "21671c4c64054dc1a72cb9f812688d51",
       "version_major": 2,
       "version_minor": 0
      },
      "text/plain": [
       "model-00001-of-00002.safetensors:   0%|          | 0.00/9.98G [00:00<?, ?B/s]"
      ]
     },
     "metadata": {},
     "output_type": "display_data"
    },
    {
     "data": {
      "application/vnd.jupyter.widget-view+json": {
       "model_id": "80592962269a4227b3696877618f9a6c",
       "version_major": 2,
       "version_minor": 0
      },
      "text/plain": [
       "model-00002-of-00002.safetensors:   0%|          | 0.00/3.50G [00:00<?, ?B/s]"
      ]
     },
     "metadata": {},
     "output_type": "display_data"
    },
    {
     "data": {
      "application/vnd.jupyter.widget-view+json": {
       "model_id": "b95ff44ef9914cd18abcc03c676e4ccb",
       "version_major": 2,
       "version_minor": 0
      },
      "text/plain": [
       "Loading checkpoint shards:   0%|          | 0/2 [00:00<?, ?it/s]"
      ]
     },
     "metadata": {},
     "output_type": "display_data"
    },
    {
     "data": {
      "application/vnd.jupyter.widget-view+json": {
       "model_id": "724239b3056c49c2a3b593103f147bb3",
       "version_major": 2,
       "version_minor": 0
      },
      "text/plain": [
       "generation_config.json:   0%|          | 0.00/200 [00:00<?, ?B/s]"
      ]
     },
     "metadata": {},
     "output_type": "display_data"
    },
    {
     "name": "stderr",
     "output_type": "stream",
     "text": [
      "/home/yuz165/LLM-Simulator/llm-simulator-env/lib/python3.9/site-packages/transformers/generation/configuration_utils.py:590: UserWarning: `do_sample` is set to `False`. However, `temperature` is set to `0.9` -- this flag is only used in sample-based generation modes. You should set `do_sample=True` or unset `temperature`.\n",
      "  warnings.warn(\n",
      "/home/yuz165/LLM-Simulator/llm-simulator-env/lib/python3.9/site-packages/transformers/generation/configuration_utils.py:595: UserWarning: `do_sample` is set to `False`. However, `top_p` is set to `0.6` -- this flag is only used in sample-based generation modes. You should set `do_sample=True` or unset `top_p`.\n",
      "  warnings.warn(\n",
      "The attention mask is not set and cannot be inferred from input because pad token is same as eos token. As a consequence, you may observe unexpected behavior. Please pass your input's `attention_mask` to obtain reliable results.\n"
     ]
    },
    {
     "name": "stdout",
     "output_type": "stream",
     "text": [
      "Generated Text: The TinyLlama project aims to pretrain 1000000000000000000000000000000000000000000000000000000000000000000000000000000000000000000000000000\n"
     ]
    },
    {
     "data": {
      "image/png": "[encoded data removed]",
      "text/plain": [
       "<Figure size 1200x600 with 1 Axes>"
      ]
     },
     "metadata": {},
     "output_type": "display_data"
    }
   ],
   "source": [
    "# Test estimate inference memory method\n",
    "prompt = (\n",
    "    'You should generate 100 words to explain diffusion model: '\n",
    ")\n",
    "monitor = ModelMemoryMonitor(llama7b_model_name, use_amp=use_amp, device=device)\n",
    "prev_memory, peak_memory_lst, cur_memory_lst = monitor.estimate_iterative_inference_memory(prompt)\n",
    "monitor.draw_memory_lines(prev_memory, peak_memory_lst, cur_memory_lst, memory_unit='gb')"
   ]
  }
 ],
 "metadata": {
  "kernelspec": {
   "display_name": "llm-simulator-env",
   "language": "python",
   "name": "python3"
  },
  "language_info": {
   "codemirror_mode": {
    "name": "ipython",
    "version": 3
   },
   "file_extension": ".py",
   "mimetype": "text/x-python",
   "name": "python",
   "nbconvert_exporter": "python",
   "pygments_lexer": "ipython3",
   "version": "3.9.5"
  }
 },
 "nbformat": 4,
 "nbformat_minor": 2
}
